{
 "cells": [
  {
   "cell_type": "code",
   "execution_count": 5,
   "id": "d97044b1",
   "metadata": {},
   "outputs": [
    {
     "name": "stdout",
     "output_type": "stream",
     "text": [
      "M, i, s, s, i, s, s, i, p, p, i, "
     ]
    }
   ],
   "source": [
    "mystr =\"Mississippi\"\n",
    "\n",
    "for ch in mystr:\n",
    "    print(ch, end=\", \")"
   ]
  },
  {
   "cell_type": "code",
   "execution_count": 7,
   "id": "52608995",
   "metadata": {},
   "outputs": [
    {
     "name": "stdout",
     "output_type": "stream",
     "text": [
      "M, i, s, s, i, s, s, i, p, p, i, "
     ]
    }
   ],
   "source": [
    "#index = 01234567890\n",
    "mystr =\"Mississippi\"#中英文皆可\n",
    "\n",
    "for i in range(len(mystr)):\n",
    "    print(mystr[i],end=\", \")"
   ]
  },
  {
   "cell_type": "code",
   "execution_count": 6,
   "id": "5dd0909e",
   "metadata": {},
   "outputs": [
    {
     "name": "stdout",
     "output_type": "stream",
     "text": [
      "密, 西, 西, 比, "
     ]
    }
   ],
   "source": [
    "#index = 01234567890\n",
    "mystr =\"密西西比\"\n",
    "\n",
    "for i in range(len(mystr)):\n",
    "    print(mystr[i],end=\", \")"
   ]
  },
  {
   "cell_type": "code",
   "execution_count": 10,
   "id": "a8080b80",
   "metadata": {},
   "outputs": [
    {
     "name": "stdout",
     "output_type": "stream",
     "text": [
      "77, 105, 115, 115, 105, 115, 115, 105, 112, 112, 105, \n",
      "A, B, C, D, E, F, G, H, I, J, K, L, M, N, O, P, Q, R, S, T, U, V, W, X, Y, Z, a, b, c, d, e, f, g, h, i, j, k, l, m, n, o, p, q, r, s, t, u, v, w, x, y, "
     ]
    }
   ],
   "source": [
    "mystr =\"Mississippi\"\n",
    "\n",
    "for ch in mystr:\n",
    "    print(ord(ch),end=\", \")\n",
    "        \n",
    "print()\n",
    "\n",
    "for i in range(65,91):\n",
    "    print(chr(i),end=\", \")\n",
    "    \n",
    "for i in range(97,122):\n",
    "    print(chr(i),end=\", \")"
   ]
  },
  {
   "cell_type": "code",
   "execution_count": 12,
   "id": "6f789029",
   "metadata": {},
   "outputs": [
    {
     "name": "stdout",
     "output_type": "stream",
     "text": [
      "I: 4\n",
      "M: 1\n",
      "P: 2\n",
      "S: 4\n"
     ]
    }
   ],
   "source": [
    "mystr =\"Mississippi\"\n",
    "cnt = [0 for i in range(26)]\n",
    "\n",
    "for ch in mystr:\n",
    "    code = ord(ch)\n",
    "    if code >90:\n",
    "        code = code-97\n",
    "    else:\n",
    "        code = code-65\n",
    "    cnt[code] +=1\n",
    "    \n",
    "for i in range(26):\n",
    "    if cnt[i]>0:\n",
    "        print(\"%s: %d\" % (chr(65+i),cnt[i]))"
   ]
  },
  {
   "cell_type": "code",
   "execution_count": 15,
   "id": "f8c0cb52",
   "metadata": {},
   "outputs": [
    {
     "name": "stdout",
     "output_type": "stream",
     "text": [
      "catfish\n"
     ]
    }
   ],
   "source": [
    "str1 = \"cat\"\n",
    "str2 = \"fish\"\n",
    "\n",
    "newstr = str1+str2\n",
    "\n",
    "print(newstr)"
   ]
  },
  {
   "cell_type": "code",
   "execution_count": 16,
   "id": "041b8af9",
   "metadata": {},
   "outputs": [
    {
     "name": "stdout",
     "output_type": "stream",
     "text": [
      "catfish\n"
     ]
    }
   ],
   "source": [
    "str1 = \"cat\"\n",
    "str2 = \"fish\"\n",
    "\n",
    "str1+=str2\n",
    "\n",
    "print(newstr)"
   ]
  },
  {
   "cell_type": "code",
   "execution_count": 18,
   "id": "298112cd",
   "metadata": {},
   "outputs": [
    {
     "name": "stdout",
     "output_type": "stream",
     "text": [
      "Mississippi\n"
     ]
    }
   ],
   "source": [
    "#index = 01234567890\n",
    "str =\"Mississippi\"\n",
    "\n",
    "print(str)"
   ]
  },
  {
   "cell_type": "code",
   "execution_count": 19,
   "id": "b79fc4dc",
   "metadata": {},
   "outputs": [
    {
     "name": "stdout",
     "output_type": "stream",
     "text": [
      "Mississippi\n",
      "ssis\n",
      "ppi\n",
      "Mississippi\n",
      "Msispi\n",
      "\n"
     ]
    }
   ],
   "source": [
    "#index = 01234567890\n",
    "str =\"Mississippi\"\n",
    "\n",
    "print(str)\n",
    "print(str[2:6])\n",
    "print(str[8:])\n",
    "print(str[:])\n",
    "print(str[::2])\n",
    "print(str[-7:-1:-2])"
   ]
  },
  {
   "cell_type": "code",
   "execution_count": 26,
   "id": "be4bec7b",
   "metadata": {},
   "outputs": [
    {
     "name": "stdout",
     "output_type": "stream",
     "text": [
      "8\n"
     ]
    }
   ],
   "source": [
    "#index:0123456789012345678\n",
    "str = \"applied mathematics\"\n",
    "if \"math\" in str:\n",
    "    print(str.index(\"math\"))"
   ]
  },
  {
   "cell_type": "code",
   "execution_count": 29,
   "id": "439728f9",
   "metadata": {},
   "outputs": [
    {
     "name": "stdout",
     "output_type": "stream",
     "text": [
      "nipson anomemta me monan opsin\n",
      "NIPSON ANOMEMTA ME MONAN OPSIN\n",
      "Nipson Anomemta Me Monan Opsin\n",
      "True\n",
      "False\n",
      "False\n",
      "['nipson', 'anomemta', 'me', 'monan', 'opsin']\n",
      "nipson anomemta me monan opsin\n",
      "False\n"
     ]
    }
   ],
   "source": [
    "str = \"nipson anomemta me monan opsin\"\n",
    "print(str.lower())#\n",
    "print(str.upper())#\n",
    "print(str.title())#\n",
    "print(str.islower())#\n",
    "print(str.isupper())#\n",
    "print(str.istitle())#\n",
    "print(str.split())#\n",
    "print(str.lstrip())#\n",
    "print(str.isalnum())"
   ]
  },
  {
   "cell_type": "code",
   "execution_count": null,
   "id": "0a21a8ab",
   "metadata": {},
   "outputs": [],
   "source": [
    "isalnum是否為英文字母或數字\n",
    "iaalpha是否為英文字母\n",
    "isdigit是否為數字\n",
    "islower是否全為小寫\n",
    "isspace是否為空白\n",
    "isupper是否全為大寫"
   ]
  },
  {
   "cell_type": "code",
   "execution_count": null,
   "id": "524f676c",
   "metadata": {},
   "outputs": [],
   "source": [
    ".lower()所有內容變小寫\n",
    ".lstrip()將左邊的空白刪除\n",
    ".lstrip(char)將左邊的特定字元刪除\n",
    ".rstrip()將右邊的空白刪除\n",
    ".rstrip(char)將右邊的特定字元刪除\n",
    ".strip()將左右的空白刪除\n",
    ".strip(char)將左右的特定字元刪除\n",
    ".upper()所有內容變大寫"
   ]
  },
  {
   "cell_type": "code",
   "execution_count": 32,
   "id": "9398c51e",
   "metadata": {},
   "outputs": [
    {
     "name": "stdout",
     "output_type": "stream",
     "text": [
      "25,   'applied mathematics'  \n",
      "23, 'applied mathematics'  \n",
      "23,   'applied mathematics'\n",
      "21, 'applied mathematics'\n",
      "22, applied mathematics'  \n",
      "22,   'applied mathematics\n"
     ]
    }
   ],
   "source": [
    "str = \"  'applied mathematics'  \"\n",
    "print(len(str), str, sep =\", \")\n",
    "print(len(str.lstrip()), str.lstrip(), sep =\", \")\n",
    "print(len(str.rstrip()), str.rstrip(), sep =\", \")\n",
    "print(len(str.strip()), str.strip(), sep =\", \")\n",
    "print(len(str.lstrip().lstrip(\"'\")), str.lstrip().lstrip(\"'\"), sep =\", \")\n",
    "print(len(str.rstrip().rstrip(\"'\")), str.rstrip().rstrip(\"'\"), sep =\", \")"
   ]
  },
  {
   "cell_type": "code",
   "execution_count": 35,
   "id": "495d8874",
   "metadata": {},
   "outputs": [
    {
     "name": "stdout",
     "output_type": "stream",
     "text": [
      "驗證碼:  j6T4q\n",
      "請輸入驗證碼: j6T4q\n",
      "驗證碼正確\n"
     ]
    }
   ],
   "source": [
    "code = \"j6T4q\"\n",
    "print(\"驗證碼: \",code)\n",
    "\n",
    "inCode = input(\"請輸入驗證碼: \")\n",
    "\n",
    "if inCode.strip().lower() == code.lower():\n",
    "    print(\"驗證碼正確\")\n",
    "else:\n",
    "    print(\"驗證碼錯誤\")"
   ]
  },
  {
   "cell_type": "code",
   "execution_count": 37,
   "id": "484719e3",
   "metadata": {},
   "outputs": [
    {
     "name": "stdout",
     "output_type": "stream",
     "text": [
      "mady, I'm ady.\n",
      "I'm ady.\n",
      "3\n",
      "2\n",
      "['ad', \", I'm ad\", '.']\n"
     ]
    }
   ],
   "source": [
    "#index=0123456789012345\n",
    "str = \"madam, I'm adam.\"\n",
    "print(str.replace(\"am\",\"y\"))\n",
    "print(str[7:].replace(\"am\",\"y\"))\n",
    "print(str.find('am'))\n",
    "print(str.count(\"am\"))\n",
    "print(str[1:].split(\"am\"))"
   ]
  },
  {
   "cell_type": "code",
   "execution_count": 38,
   "id": "0fa35379",
   "metadata": {},
   "outputs": [
    {
     "name": "stdout",
     "output_type": "stream",
     "text": [
      "下雨天，留客天。 8\n",
      "下雨天，留客天。下雨天，留客天。下雨天，留客天。 24\n",
      "3\n"
     ]
    }
   ],
   "source": [
    "str = \"下雨天，留客天。\"\n",
    "print(str, len(str))\n",
    "str3 = str * 3\n",
    "print(str3, len(str3))\n",
    "print(str3.count(\"雨天\"))"
   ]
  },
  {
   "cell_type": "code",
   "execution_count": 2,
   "id": "8eaa43ad",
   "metadata": {},
   "outputs": [
    {
     "name": "stdout",
     "output_type": "stream",
     "text": [
      "驗證碼:  AeryAJ\n",
      "請輸入驗整碼: AeryAJ\n",
      "驗證碼正確\n"
     ]
    }
   ],
   "source": [
    "import random,string\n",
    "code = ''.join(random.choice(string.ascii_letters + string.digits) for x in range(6))\n",
    "\n",
    "print(\"驗證碼: \", code)\n",
    "\n",
    "inCode = input(\"請輸入驗整碼: \")\n",
    "\n",
    "if inCode.strip().lower() == code.lower():\n",
    "    print(\"驗證碼正確\")\n",
    "else:\n",
    "    print(\"驗證碼錯誤\")"
   ]
  },
  {
   "cell_type": "code",
   "execution_count": null,
   "id": "90f4139a",
   "metadata": {},
   "outputs": [],
   "source": []
  }
 ],
 "metadata": {
  "kernelspec": {
   "display_name": "Python 3 (ipykernel)",
   "language": "python",
   "name": "python3"
  },
  "language_info": {
   "codemirror_mode": {
    "name": "ipython",
    "version": 3
   },
   "file_extension": ".py",
   "mimetype": "text/x-python",
   "name": "python",
   "nbconvert_exporter": "python",
   "pygments_lexer": "ipython3",
   "version": "3.10.9"
  }
 },
 "nbformat": 4,
 "nbformat_minor": 5
}
