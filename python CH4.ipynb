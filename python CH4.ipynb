{
 "cells": [
  {
   "cell_type": "code",
   "execution_count": 3,
   "id": "2dffe57d",
   "metadata": {},
   "outputs": [
    {
     "name": "stdout",
     "output_type": "stream",
     "text": [
      "enter sales60000\n",
      "bonus :500\n",
      "done\n"
     ]
    }
   ],
   "source": [
    "sales = eval(input(\"enter sales\"))\n",
    "\n",
    "if sales > 50000:\n",
    "    print(\"bonus :500\")\n",
    "    \n",
    "    print(\"done\")"
   ]
  },
  {
   "cell_type": "code",
   "execution_count": 1,
   "id": "75776315",
   "metadata": {},
   "outputs": [
    {
     "name": "stdout",
     "output_type": "stream",
     "text": [
      "enter a positive integer :45\n",
      "45 is odd\n",
      "45 是奇數\n"
     ]
    }
   ],
   "source": [
    "n=eval(input(\"enter a positive integer :\"))\n",
    "if n % 2 :\n",
    "    print(n, \"is odd\")\n",
    "    print(n, \"是奇數\")\n",
    "\n",
    "else:\n",
    "    print(n, \"is even\")\n",
    "    print(n, \"是偶數\")   "
   ]
  },
  {
   "cell_type": "code",
   "execution_count": 2,
   "id": "e856bc14",
   "metadata": {},
   "outputs": [
    {
     "name": "stdout",
     "output_type": "stream",
     "text": [
      "輸入年薪:65000\n",
      "輸入現職年數:6\n",
      "pass\n"
     ]
    }
   ],
   "source": [
    "salary = eval(input(\"輸入年薪:\"))\n",
    "\n",
    "if salary >= 30000:\n",
    "    job = eval(input(\"輸入現職年數:\"))\n",
    "    if job >= 2:\n",
    "        print(\"pass\")\n",
    "    else:\n",
    "            print(\"現職未達兩年，未獲通過!\")\n",
    "else:\n",
    "    print(\"年薪未達30000，未獲通過!\")"
   ]
  },
  {
   "cell_type": "code",
   "execution_count": 15,
   "id": "23c7c049",
   "metadata": {},
   "outputs": [
    {
     "name": "stdout",
     "output_type": "stream",
     "text": [
      "請輸入成績:80\n",
      "B\n"
     ]
    }
   ],
   "source": [
    "s = eval(input(\"請輸入成績:\"))\n",
    "\n",
    "if s>= 90:\n",
    "    print(\"A\")\n",
    "else:\n",
    "    if s >=80:\n",
    "        print(\"B\")\n",
    "    else:\n",
    "        if s>=70:\n",
    "            print(\"C\")\n",
    "        else:\n",
    "            if s>=60:\n",
    "                print(\"D\")\n",
    "            else:\n",
    "                print(\"E\")"
   ]
  },
  {
   "cell_type": "code",
   "execution_count": 18,
   "id": "d16d1453",
   "metadata": {},
   "outputs": [
    {
     "name": "stdout",
     "output_type": "stream",
     "text": [
      "輸入成績800\n",
      "無效的成績\n"
     ]
    }
   ],
   "source": [
    "s = eval(input(\"輸入成績\"))\n",
    "if 0 <= s and s <= 100:\n",
    "    print(\"有效的成績\")\n",
    "else:\n",
    "    print(\"無效的成績\")"
   ]
  }
 ],
 "metadata": {
  "kernelspec": {
   "display_name": "Python 3 (ipykernel)",
   "language": "python",
   "name": "python3"
  },
  "language_info": {
   "codemirror_mode": {
    "name": "ipython",
    "version": 3
   },
   "file_extension": ".py",
   "mimetype": "text/x-python",
   "name": "python",
   "nbconvert_exporter": "python",
   "pygments_lexer": "ipython3",
   "version": "3.10.9"
  }
 },
 "nbformat": 4,
 "nbformat_minor": 5
}
