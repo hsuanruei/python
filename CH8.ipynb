{
 "cells": [
  {
   "cell_type": "code",
   "execution_count": 2,
   "id": "07153bd3",
   "metadata": {},
   "outputs": [
    {
     "name": "stdout",
     "output_type": "stream",
     "text": [
      "887 548\n",
      "Max = 887\n"
     ]
    }
   ],
   "source": [
    "import random\n",
    "\n",
    "a= random.randint(1,1000)\n",
    "b= random.randint(1,1000)\n",
    "print(a,b)\n",
    "\n",
    "if a>= b:\n",
    "    print(\"Max =\",a)\n",
    "else:\n",
    "    print(\"Max =\",b)"
   ]
  },
  {
   "cell_type": "code",
   "execution_count": 5,
   "id": "3286be81",
   "metadata": {},
   "outputs": [
    {
     "name": "stdout",
     "output_type": "stream",
     "text": [
      "95 64 70\n",
      "Max = 95\n"
     ]
    }
   ],
   "source": [
    "import random\n",
    "\n",
    "a= random.randint(1,100)\n",
    "b= random.randint(1,100)\n",
    "c= random.randint(1,100)\n",
    "print(a,b,c)\n",
    "\n",
    "if a>= b:\n",
    "    if a>=c:\n",
    "        print(\"Max =\",a)\n",
    "    else:\n",
    "        print(\"Max =\",c)\n",
    "else:\n",
    "    if b>=c:\n",
    "        print(\"Max =\",c)\n",
    "    else:\n",
    "        print(\"Max =\",c)"
   ]
  },
  {
   "cell_type": "code",
   "execution_count": 6,
   "id": "75136679",
   "metadata": {},
   "outputs": [
    {
     "name": "stdout",
     "output_type": "stream",
     "text": [
      "<class 'list'>\n",
      "[3, 3.14, 2.71828, 'pi', 'e']\n",
      "3\n",
      "pi\n",
      "e\n",
      "2.71828\n"
     ]
    }
   ],
   "source": [
    "mylist = [3,3.14,2.71828,\"pi\",\"e\"]\n",
    "print(type(mylist))\n",
    "print(mylist)\n",
    "print(mylist[0])\n",
    "print(mylist[3])\n",
    "print(mylist[-1])\n",
    "print(mylist[2])"
   ]
  },
  {
   "cell_type": "markdown",
   "id": "bdddcae6",
   "metadata": {},
   "source": [
    "list:可改變的\n",
    "tuple:不可改變的"
   ]
  },
  {
   "cell_type": "code",
   "execution_count": 7,
   "id": "6e6ccf33",
   "metadata": {},
   "outputs": [
    {
     "name": "stdout",
     "output_type": "stream",
     "text": [
      "[1, 2, 3, 1, 2, 3, 1, 2, 3]\n"
     ]
    }
   ],
   "source": [
    "my = [1,2,3]\n",
    "your = my*3\n",
    "print(your)"
   ]
  },
  {
   "cell_type": "code",
   "execution_count": 9,
   "id": "ee949690",
   "metadata": {},
   "outputs": [
    {
     "name": "stdout",
     "output_type": "stream",
     "text": [
      "10\n",
      "20\n",
      "30\n",
      "10\n",
      "20\n",
      "30\n"
     ]
    }
   ],
   "source": [
    "my = [1,2,3]\n",
    "your = my*2\n",
    "\n",
    "for i in your:\n",
    "    print(i * 10)"
   ]
  },
  {
   "cell_type": "code",
   "execution_count": 10,
   "id": "7890f604",
   "metadata": {
    "scrolled": true
   },
   "outputs": [
    {
     "name": "stdout",
     "output_type": "stream",
     "text": [
      "10, 20, 30, 10, 20, 30, \n",
      "10, 20, 30, 10, 20, 30, "
     ]
    }
   ],
   "source": [
    "my = [1,2,3]\n",
    "your = my*2\n",
    "\n",
    "for i in your:\n",
    "    print(i * 10, end=\", \")\n",
    "    \n",
    "print()\n",
    "\n",
    "for i in range(len(your)):\n",
    "    print(your[i] * 10,end=\", \")"
   ]
  },
  {
   "cell_type": "markdown",
   "id": "944dcb50",
   "metadata": {},
   "source": [
    "list1 = [1,2,3,4,5]\n",
    "list2 =[6,7,8]\n",
    "print(list1 + list2)\n",
    "print(list + 8)   ( X )"
   ]
  },
  {
   "cell_type": "code",
   "execution_count": 14,
   "id": "f6783f70",
   "metadata": {
    "scrolled": true
   },
   "outputs": [
    {
     "name": "stdout",
     "output_type": "stream",
     "text": [
      "[2, 3, 4, 5]\n",
      "[1, 2, 3, 4, 5]\n",
      "[2, 3, 4, 5, 6, 7, 8]\n",
      "[6, 7]\n",
      "[2, 4, 6, 8]\n",
      "[1, 3, 5, 7]\n",
      "[1, 4, 7]\n",
      "[2, 5, 8]\n",
      "[1, 20, 30, 4, 5, 6, 7, 8]\n"
     ]
    }
   ],
   "source": [
    "n =[1,2,3,4,5,6,7,8]\n",
    "\n",
    "print(n[1:5])\n",
    "print(n[:5])\n",
    "print(n[1:])\n",
    "print(n[-3:-1])\n",
    "print(n[1:9:2])\n",
    "print(n[::2])\n",
    "print(n[::3])\n",
    "print(n[1::3])\n",
    "\n",
    "n[1:3] = 20,30\n",
    "print(n)"
   ]
  },
  {
   "cell_type": "code",
   "execution_count": null,
   "id": "a7582e9c",
   "metadata": {},
   "outputs": [],
   "source": [
    "n1 = [12,2,4,6,8,10]"
   ]
  }
 ],
 "metadata": {
  "kernelspec": {
   "display_name": "Python 3 (ipykernel)",
   "language": "python",
   "name": "python3"
  },
  "language_info": {
   "codemirror_mode": {
    "name": "ipython",
    "version": 3
   },
   "file_extension": ".py",
   "mimetype": "text/x-python",
   "name": "python",
   "nbconvert_exporter": "python",
   "pygments_lexer": "ipython3",
   "version": "3.10.9"
  }
 },
 "nbformat": 4,
 "nbformat_minor": 5
}
