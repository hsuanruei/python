{
 "cells": [
  {
   "cell_type": "code",
   "execution_count": 2,
   "id": "0fb162a0",
   "metadata": {},
   "outputs": [
    {
     "name": "stdout",
     "output_type": "stream",
     "text": [
      "1\n",
      "2\n",
      "3\n",
      "4\n",
      "5\n"
     ]
    }
   ],
   "source": [
    "print(1)\n",
    "print(2)\n",
    "print(3)\n",
    "print(4)\n",
    "print(5)"
   ]
  },
  {
   "cell_type": "code",
   "execution_count": 3,
   "id": "0f3ebafa",
   "metadata": {},
   "outputs": [
    {
     "name": "stdout",
     "output_type": "stream",
     "text": [
      "1\n",
      "2\n",
      "3\n",
      "4\n",
      "5\n",
      "done\n"
     ]
    }
   ],
   "source": [
    " i=1\n",
    " while i <=5:\n",
    "    print(i)\n",
    "    i=i+1\n",
    "    \n",
    "print(\"done\")\n",
    " "
   ]
  },
  {
   "cell_type": "markdown",
   "id": "896e0f39",
   "metadata": {},
   "source": [
    "要設定好迴圈出值還有條件"
   ]
  },
  {
   "cell_type": "code",
   "execution_count": 5,
   "id": "b4f21819",
   "metadata": {},
   "outputs": [
    {
     "name": "stdout",
     "output_type": "stream",
     "text": [
      "done\n"
     ]
    }
   ],
   "source": [
    "i=1\n",
    "while i >5:\n",
    "    print(i)\n",
    "    i=i+1\n",
    "    \n",
    "print(\"done\")\n",
    " "
   ]
  },
  {
   "cell_type": "code",
   "execution_count": 10,
   "id": "bd1aa824",
   "metadata": {},
   "outputs": [
    {
     "name": "stdout",
     "output_type": "stream",
     "text": [
      "enter a number:100\n",
      "SUM= 1683\n"
     ]
    }
   ],
   "source": [
    "n = int (input(\"enter a number:\"))\n",
    "sum=0\n",
    "i=3\n",
    "while i<=n:\n",
    "    sum=sum +i\n",
    "    i=i+3\n",
    "print(\"SUM=\",sum)"
   ]
  },
  {
   "cell_type": "code",
   "execution_count": 14,
   "id": "823b80c8",
   "metadata": {},
   "outputs": [
    {
     "name": "stdout",
     "output_type": "stream",
     "text": [
      "1\n",
      "2\n",
      "3\n",
      "4\n",
      "5\n",
      "done\n"
     ]
    }
   ],
   "source": [
    "i=1\n",
    "while i <=5:\n",
    "    print(i)\n",
    "    i=i+1\n",
    "    \n",
    "print(\"done\")"
   ]
  },
  {
   "cell_type": "code",
   "execution_count": 11,
   "id": "7fd3a693",
   "metadata": {},
   "outputs": [
    {
     "name": "stdout",
     "output_type": "stream",
     "text": [
      "1\n",
      "2\n",
      "3\n",
      "4\n",
      "5\n",
      "done\n"
     ]
    }
   ],
   "source": [
    "for i in[1,2,3,4,5]:\n",
    "    print (i)\n",
    "    \n",
    "print(\"done\")"
   ]
  },
  {
   "cell_type": "code",
   "execution_count": 15,
   "id": "00e6f75e",
   "metadata": {},
   "outputs": [
    {
     "name": "stdout",
     "output_type": "stream",
     "text": [
      "1\n",
      "3\n",
      "5\n",
      "done\n"
     ]
    }
   ],
   "source": [
    "for i in range(1,6,2):\n",
    "    print(i)\n",
    "    \n",
    "print(\"done\")"
   ]
  },
  {
   "cell_type": "code",
   "execution_count": 16,
   "id": "e657a5ce",
   "metadata": {},
   "outputs": [
    {
     "name": "stdout",
     "output_type": "stream",
     "text": [
      "5\n",
      "4\n",
      "3\n",
      "2\n",
      "1\n",
      "done\n"
     ]
    }
   ],
   "source": [
    "for i in range(5,0,-1):\n",
    "    print(i)\n",
    "    \n",
    "print(\"done\")"
   ]
  },
  {
   "cell_type": "code",
   "execution_count": 19,
   "id": "c72db97a",
   "metadata": {},
   "outputs": [
    {
     "name": "stdout",
     "output_type": "stream",
     "text": [
      "enter a number :5\n",
      "1\n",
      "2\n",
      "3\n",
      "4\n",
      "5\n",
      "done\n"
     ]
    }
   ],
   "source": [
    "n=int(input(\"enter a number :\"))\n",
    "\n",
    "for i in range(1,n+1):\n",
    "    print(i)\n",
    "    \n",
    "print(\"done\")"
   ]
  },
  {
   "cell_type": "code",
   "execution_count": 23,
   "id": "ff7dd610",
   "metadata": {},
   "outputs": [
    {
     "name": "stdout",
     "output_type": "stream",
     "text": [
      "enter a number :87\n",
      "87 是合數\n"
     ]
    }
   ],
   "source": [
    "n=int(input(\"enter a number :\"))\n",
    "prime = True\n",
    "for i in range(2,n):\n",
    "    if n % i == 0:\n",
    "        prime = False\n",
    "        break\n",
    "print(\"%d %s\" % (n, \"是質數\" if prime else \"是合數\" ))"
   ]
  },
  {
   "cell_type": "code",
   "execution_count": 33,
   "id": "12ba8c2e",
   "metadata": {},
   "outputs": [
    {
     "name": "stdout",
     "output_type": "stream",
     "text": [
      "enter a number :5\n",
      "\n",
      "Sum = 20515\n"
     ]
    }
   ],
   "source": [
    "n=int(input(\"enter a number :\"))\n",
    "i=1\n",
    "sum = 0\n",
    "while i<=n:\n",
    "    sum += i**6\n",
    "    i=i+1\n",
    "print(\"\\nSum =\", sum)\n",
    "\n",
    "# print(\"Sum=\", n*(n+1) *(2*n +1) // 6)"
   ]
  },
  {
   "cell_type": "code",
   "execution_count": 40,
   "id": "8a276464",
   "metadata": {},
   "outputs": [
    {
     "name": "stdout",
     "output_type": "stream",
     "text": [
      "enter a possitive integar >=2): 36\n",
      "36 is a composite number\n"
     ]
    }
   ],
   "source": [
    "prime = True\n",
    "n = eval(input(\"enter a possitive integar >=2): \"))\n",
    "\n",
    "while n <=1:\n",
    "    print(\"Invaild input ,retry!\")\n",
    "    n = eval(input(\"enter a possitive integar >=2): \"))\n",
    "    \n",
    "for i in range (2,int(n**0.5)+1):\n",
    "    if n%i ==0:\n",
    "        prime = False\n",
    "        break\n",
    "        \n",
    "if prime:\n",
    "      print (n, \"is aprime number \")\n",
    "else:\n",
    "      print(n, \"is a composite number\")"
   ]
  },
  {
   "cell_type": "code",
   "execution_count": null,
   "id": "a7a0857f",
   "metadata": {},
   "outputs": [],
   "source": []
  }
 ],
 "metadata": {
  "kernelspec": {
   "display_name": "Python 3 (ipykernel)",
   "language": "python",
   "name": "python3"
  },
  "language_info": {
   "codemirror_mode": {
    "name": "ipython",
    "version": 3
   },
   "file_extension": ".py",
   "mimetype": "text/x-python",
   "name": "python",
   "nbconvert_exporter": "python",
   "pygments_lexer": "ipython3",
   "version": "3.10.9"
  }
 },
 "nbformat": 4,
 "nbformat_minor": 5
}
