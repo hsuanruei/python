{
 "cells": [
  {
   "cell_type": "code",
   "execution_count": 2,
   "id": "a49448c4",
   "metadata": {},
   "outputs": [
    {
     "name": "stdout",
     "output_type": "stream",
     "text": [
      "Enter name: Judy\n",
      "Judy: 715\n"
     ]
    }
   ],
   "source": [
    "pb = [\"Tom\",\"205\",\"Judy\",\"715\",\"Jay\",\"511\"]\n",
    "name = input(\"Enter name: \")\n",
    "if name in pb :\n",
    "    print(name, pb[pb.index(name)+1],sep=\": \")\n",
    "else:\n",
    "    print(\"查無此人\")"
   ]
  },
  {
   "cell_type": "code",
   "execution_count": 4,
   "id": "7f9333e1",
   "metadata": {},
   "outputs": [
    {
     "name": "stdout",
     "output_type": "stream",
     "text": [
      "Enter name: Judy\n",
      "Judy: 715\n"
     ]
    }
   ],
   "source": [
    "pb = {\"Tom\":\"205\",\"Judy\":\"715\",\"Jay\":\"511\"}\n",
    "name = input(\"Enter name: \")\n",
    "if name in pb :\n",
    "    print(name, pb[name],sep=\": \")\n",
    "else:\n",
    "    print(\"查無此人\")"
   ]
  },
  {
   "cell_type": "code",
   "execution_count": 5,
   "id": "748ea759",
   "metadata": {},
   "outputs": [
    {
     "name": "stdout",
     "output_type": "stream",
     "text": [
      "4\n",
      "{'Cindy': '421', 'Konta': '497', 'Judy': '306', 'Tom': 205, 'Richard': '123'}\n",
      "Cindy: 421\n",
      "Konta: 497\n",
      "Judy: 306\n",
      "Tom: 205\n",
      "Richard: 123\n"
     ]
    }
   ],
   "source": [
    "phonebook = {\"Cindy\":\"421\",\"Konta\":\"497\",\"Judy\":\"306\",\"Tom\":\"207\"}\n",
    "print(len(phonebook))\n",
    "phonebook[\"Richard\"] = \"123\"\n",
    "phonebook[\"Tom\"] = 205\n",
    "print(phonebook)\n",
    "\n",
    "for key in phonebook:\n",
    "    print(key,phonebook[key],sep=\": \")"
   ]
  },
  {
   "cell_type": "code",
   "execution_count": 6,
   "id": "b459e7e8",
   "metadata": {},
   "outputs": [
    {
     "name": "stdout",
     "output_type": "stream",
     "text": [
      "{'Judy': '306', 'Cindy': '421'}\n"
     ]
    }
   ],
   "source": [
    "pb = dict()\n",
    "pb[\"Judy\"] = \"306\"\n",
    "pb[\"Cindy\"] = \"421\"\n",
    "print(pb)\n",
    "\n"
   ]
  },
  {
   "cell_type": "code",
   "execution_count": 9,
   "id": "a48dcc3d",
   "metadata": {},
   "outputs": [
    {
     "name": "stdout",
     "output_type": "stream",
     "text": [
      "查無此人\n"
     ]
    }
   ],
   "source": [
    "pb = {}\n",
    "pb[\"Judy\"] = \"306\"\n",
    "pb[\"Cindy\"] = \"421\"\n",
    "print(pb.get(\"Jay\",\"查無此人\"))\n"
   ]
  },
  {
   "cell_type": "code",
   "execution_count": 10,
   "id": "ce0749e4",
   "metadata": {},
   "outputs": [
    {
     "name": "stdout",
     "output_type": "stream",
     "text": [
      "306\n",
      "None\n",
      "Entry not found\n",
      "{'Cindy': '421', 'Konta': '497', 'Judy': '306', 'Tom': '207'}\n",
      "{}\n"
     ]
    }
   ],
   "source": [
    "pb = {\"Cindy\":\"421\",\"Konta\":\"497\",\"Judy\":\"306\",\"Tom\":\"207\"}\n",
    "print(pb.get(\"Judy\"))\n",
    "print(pb.get(\"Johnny\"))\n",
    "print(pb.get(\"Johnny\",\"Entry not found\"))\n",
    "\n",
    "print(pb)\n",
    "pb.clear()\n",
    "print(pb)"
   ]
  },
  {
   "cell_type": "code",
   "execution_count": 12,
   "id": "6ec53bfe",
   "metadata": {},
   "outputs": [
    {
     "name": "stdout",
     "output_type": "stream",
     "text": [
      "dict_keys(['Cindy', 'Konta', 'Judy', 'Tom'])\n",
      "dict_values(['421', '497', '306', '207'])\n",
      "306\n",
      "{'Cindy': '421', 'Konta': '497', 'Tom': '207'}\n",
      "('Tom', '207')\n",
      "{'Cindy': '421', 'Konta': '497'}\n"
     ]
    }
   ],
   "source": [
    "phonebook = {\"Cindy\":\"421\",\"Konta\":\"497\",\"Judy\":\"306\",\"Tom\":\"207\"}\n",
    "#print(phonebook.items())\n",
    "print(phonebook.keys())\n",
    "print(phonebook.values())\n",
    "print(phonebook.pop(\"Judy\",\"Entry not found\"))\n",
    "print(phonebook)\n",
    "print(phonebook.popitem())\n",
    "print(phonebook)\n"
   ]
  },
  {
   "cell_type": "code",
   "execution_count": 13,
   "id": "e8fd9538",
   "metadata": {},
   "outputs": [
    {
     "name": "stdout",
     "output_type": "stream",
     "text": [
      "{'Cindy': '421', 'Konta': '497', 'Judy': '306', 'Tom': '207'}\n",
      "306\n",
      "{'Cindy': '421', 'Konta': '497', 'Tom': '207'}\n",
      "('Tom', '207')\n",
      "{'Cindy': '421', 'Konta': '497'}\n"
     ]
    }
   ],
   "source": [
    "phonebook = {\"Cindy\":\"421\",\"Konta\":\"497\",\"Judy\":\"306\",\"Tom\":\"207\"}\n",
    "print(phonebook)\n",
    "print(phonebook.pop(\"Judy\",\"Entry not found\"))\n",
    "print(phonebook)\n",
    "print(phonebook.popitem())\n",
    "print(phonebook)"
   ]
  },
  {
   "cell_type": "code",
   "execution_count": 14,
   "id": "cf043534",
   "metadata": {},
   "outputs": [
    {
     "name": "stdout",
     "output_type": "stream",
     "text": [
      "{'Cindy': '421', 'Konta': '497', 'Judy': '306', 'Tom': '207'}\n",
      "('Tom', '207')\n",
      "{'Cindy': '421', 'Konta': '497', 'Judy': '306'}\n"
     ]
    }
   ],
   "source": [
    "phonebook = {\"Cindy\":\"421\",\"Konta\":\"497\",\"Judy\":\"306\",\"Tom\":\"207\"}\n",
    "print(phonebook)\n",
    "print(phonebook.popitem())\n",
    "print(phonebook)"
   ]
  },
  {
   "cell_type": "code",
   "execution_count": 19,
   "id": "77f95e68",
   "metadata": {},
   "outputs": [
    {
     "name": "stdout",
     "output_type": "stream",
     "text": [
      "set()\n",
      "{3, 4, 5, 6}\n",
      "{'A', 'p', 'd', 'i', 'l', 'e'}\n",
      "{'Applied'}\n"
     ]
    }
   ],
   "source": [
    "A = set()\n",
    "B = set([3,4,5,6,6,6])\n",
    "print(A)\n",
    "print(B)\n",
    "C = set(\"Applied\")\n",
    "print(C)\n",
    "D = set([\"Applied\"])\n",
    "print(D)"
   ]
  },
  {
   "cell_type": "code",
   "execution_count": 21,
   "id": "bc08bca3",
   "metadata": {},
   "outputs": [
    {
     "name": "stdout",
     "output_type": "stream",
     "text": [
      "{1, 2, 3, 4, 5, 6}\n",
      "{1, 2, 3, 4, 5, 6, 7}\n",
      "{1, 2, 3, 4, 5, 6, 7, 'a', 'b', 'c'}\n",
      "{1, 2, 3, 4, 5, 6, 7, 'a', 'b'}\n",
      "{1, 2, 3, 4, 5, 6, 7, 'a', 'b'}\n",
      "set()\n"
     ]
    }
   ],
   "source": [
    "set1 = set([1,2,3])\n",
    "set1.update([4,5,6])\n",
    "print(set1)\n",
    "set1.add(7)\n",
    "print(set1)\n",
    "set1.update('abc')\n",
    "print(set1)\n",
    "set1.remove('c')\n",
    "print(set1)\n",
    "set1.discard('d')\n",
    "print(set1)\n",
    "set1.clear()\n",
    "print(set1)"
   ]
  },
  {
   "cell_type": "code",
   "execution_count": null,
   "id": "3c3b6b10",
   "metadata": {},
   "outputs": [],
   "source": [
    "物件名稱.函數名稱"
   ]
  },
  {
   "cell_type": "code",
   "execution_count": 22,
   "id": "ccb530b5",
   "metadata": {},
   "outputs": [
    {
     "name": "stdout",
     "output_type": "stream",
     "text": [
      "\"Applied\" is not a element of c\n",
      "A\n",
      "p\n",
      "d\n",
      "i\n",
      "l\n",
      "Applied\n",
      "e\n",
      "{'A', 'p', 'd', 'i', 'l', 'Applied', 'e'}\n"
     ]
    }
   ],
   "source": [
    "C = set()\n",
    "C = set(\"Applied\")\n",
    "if \"Applied\" in C:\n",
    "    print('\"Applied\" is a element of c')\n",
    "else:\n",
    "     print('\"Applied\" is not a element of c')\n",
    "C.add(\"Applied\")\n",
    "for i in C:\n",
    "    print(i)\n",
    "print(C)"
   ]
  },
  {
   "cell_type": "code",
   "execution_count": null,
   "id": "69d15126",
   "metadata": {},
   "outputs": [],
   "source": [
    "A聯集B"
   ]
  },
  {
   "cell_type": "code",
   "execution_count": 23,
   "id": "c4d0e2cb",
   "metadata": {},
   "outputs": [
    {
     "name": "stdout",
     "output_type": "stream",
     "text": [
      "{1, 2, 3, 4, 5, 6}\n",
      "{1, 2, 3, 4, 5, 6}\n"
     ]
    }
   ],
   "source": [
    "A = set([1,2,3,4])\n",
    "B = set([3,4,5,6])\n",
    "\n",
    "print(A | B)\n",
    "print(A.union(B))"
   ]
  },
  {
   "cell_type": "code",
   "execution_count": null,
   "id": "a49abeb3",
   "metadata": {},
   "outputs": [],
   "source": [
    "A交集B"
   ]
  },
  {
   "cell_type": "code",
   "execution_count": 24,
   "id": "0c892b4e",
   "metadata": {},
   "outputs": [
    {
     "name": "stdout",
     "output_type": "stream",
     "text": [
      "{3, 4}\n",
      "{1, 2, 3, 4, 5, 6}\n"
     ]
    }
   ],
   "source": [
    "A = set([1,2,3,4])\n",
    "B = set([3,4,5,6])\n",
    "\n",
    "print(A & B)\n",
    "print(A.union(B))"
   ]
  },
  {
   "cell_type": "code",
   "execution_count": null,
   "id": "f20dff4d",
   "metadata": {},
   "outputs": [],
   "source": [
    "A差集B"
   ]
  },
  {
   "cell_type": "code",
   "execution_count": 26,
   "id": "6a0f359b",
   "metadata": {},
   "outputs": [
    {
     "name": "stdout",
     "output_type": "stream",
     "text": [
      "{1, 2}\n",
      "{1, 2}\n"
     ]
    }
   ],
   "source": [
    "A = set([1,2,3,4])\n",
    "B = set([3,4,5,6])\n",
    "\n",
    "print(A - B)\n",
    "print(A.difference(B))"
   ]
  },
  {
   "cell_type": "code",
   "execution_count": null,
   "id": "f841350c",
   "metadata": {},
   "outputs": [],
   "source": [
    "A對稱差集B"
   ]
  },
  {
   "cell_type": "code",
   "execution_count": 28,
   "id": "81922359",
   "metadata": {},
   "outputs": [
    {
     "name": "stdout",
     "output_type": "stream",
     "text": [
      "{1, 2, 5, 6}\n",
      "{1, 2, 5, 6}\n",
      "{1, 2, 5, 6}\n"
     ]
    }
   ],
   "source": [
    "A = set([1,2,3,4])\n",
    "B = set([3,4,5,6])\n",
    "\n",
    "print(A ^ B)\n",
    "print(A.symmetric_difference(B))\n",
    "print((A | B) - (A & B))"
   ]
  },
  {
   "cell_type": "code",
   "execution_count": null,
   "id": "218727d0",
   "metadata": {},
   "outputs": [],
   "source": [
    "子集合"
   ]
  },
  {
   "cell_type": "code",
   "execution_count": 30,
   "id": "57be9750",
   "metadata": {},
   "outputs": [
    {
     "name": "stdout",
     "output_type": "stream",
     "text": [
      "True\n",
      "True\n"
     ]
    }
   ],
   "source": [
    "A = set([1,2,3,4])\n",
    "C = set([3,4])\n",
    "\n",
    "print(A.issubset(A))\n",
    "print(C <= A)"
   ]
  },
  {
   "cell_type": "code",
   "execution_count": 31,
   "id": "c36244bf",
   "metadata": {},
   "outputs": [
    {
     "name": "stdout",
     "output_type": "stream",
     "text": [
      "True\n",
      "False\n"
     ]
    }
   ],
   "source": [
    "A = set([1,2,3,4])\n",
    "B = set([3,4])\n",
    "\n",
    "print(A.issuperset(A))\n",
    "print(A <= B)"
   ]
  }
 ],
 "metadata": {
  "kernelspec": {
   "display_name": "Python 3 (ipykernel)",
   "language": "python",
   "name": "python3"
  },
  "language_info": {
   "codemirror_mode": {
    "name": "ipython",
    "version": 3
   },
   "file_extension": ".py",
   "mimetype": "text/x-python",
   "name": "python",
   "nbconvert_exporter": "python",
   "pygments_lexer": "ipython3",
   "version": "3.10.9"
  }
 },
 "nbformat": 4,
 "nbformat_minor": 5
}
