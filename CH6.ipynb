{
 "cells": [
  {
   "cell_type": "code",
   "execution_count": 17,
   "id": "b66d9d23",
   "metadata": {},
   "outputs": [
    {
     "name": "stdout",
     "output_type": "stream",
     "text": [
      "ENter n = 5\n",
      "ENter m = 2\n",
      "C(5,2)=10\n"
     ]
    }
   ],
   "source": [
    "n = int(input(\"ENter n = \"))\n",
    "m = int(input(\"ENter m = \"))\n",
    "\n",
    "nF = mF = nmF = 1\n",
    "for i in range(1, n+1):\n",
    "    nF *= i \n",
    "    \n",
    "for i in range(1,m+1):\n",
    "    mF *= i\n",
    "    \n",
    "for i in range (1,(n-m)+1):\n",
    "    nmF *= i\n",
    "    \n",
    "print(\"C({},{})={}\".format(n,m,nF//(mF*nmF)))    "
   ]
  },
  {
   "cell_type": "code",
   "execution_count": 20,
   "id": "ab330348",
   "metadata": {},
   "outputs": [
    {
     "name": "stdout",
     "output_type": "stream",
     "text": [
      "Enter n = 5\n",
      "Enter m = 2\n",
      "C(5,2)=10\n"
     ]
    }
   ],
   "source": [
    "def fact(n):\n",
    "    nF = 1\n",
    "    for i in range(2, n+1):\n",
    "        nF *= i \n",
    "    return nF\n",
    "\n",
    "def main():  # 主程式的起點\n",
    "    n = int(input(\"Enter n = \"))\n",
    "    m = int(input(\"Enter m = \"))\n",
    "\n",
    "    print(\"C(%d,%d)=%d\" %(n, m, fact(n)//(fact(m)*fact(n-m))))\n",
    "    \n",
    "main()    "
   ]
  },
  {
   "cell_type": "code",
   "execution_count": 22,
   "id": "8bdcd5e9",
   "metadata": {},
   "outputs": [
    {
     "name": "stdout",
     "output_type": "stream",
     "text": [
      "local string of func1\n",
      "local string of func2\n"
     ]
    }
   ],
   "source": [
    "def func1():\n",
    "    string = 'local string of func1'\n",
    "    print(string)\n",
    "\n",
    "def func2():\n",
    "    string = 'local string of func2'\n",
    "    func1()\n",
    "    print(string)\n",
    "    \n",
    "func2()\n"
   ]
  },
  {
   "cell_type": "code",
   "execution_count": 27,
   "id": "0e23bbab",
   "metadata": {},
   "outputs": [
    {
     "name": "stdout",
     "output_type": "stream",
     "text": [
      "main: 10\n",
      "func1: 20\n",
      "main: 10\n"
     ]
    }
   ],
   "source": [
    "n =100\n",
    "def func1(n):\n",
    "    n += 10\n",
    "    print(\"func1:\",n)\n",
    "    \n",
    "def main():\n",
    "    n = 10\n",
    "    print(\"main:\",n)\n",
    "    func1(n)\n",
    "    print(\"main:\",n)\n",
    "    \n",
    "main()"
   ]
  },
  {
   "cell_type": "code",
   "execution_count": null,
   "id": "63320611",
   "metadata": {},
   "outputs": [],
   "source": []
  }
 ],
 "metadata": {
  "kernelspec": {
   "display_name": "Python 3 (ipykernel)",
   "language": "python",
   "name": "python3"
  },
  "language_info": {
   "codemirror_mode": {
    "name": "ipython",
    "version": 3
   },
   "file_extension": ".py",
   "mimetype": "text/x-python",
   "name": "python",
   "nbconvert_exporter": "python",
   "pygments_lexer": "ipython3",
   "version": "3.10.9"
  }
 },
 "nbformat": 4,
 "nbformat_minor": 5
}
