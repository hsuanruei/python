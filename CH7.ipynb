{
 "cells": [
  {
   "cell_type": "code",
   "execution_count": 13,
   "id": "3b825133",
   "metadata": {},
   "outputs": [
    {
     "name": "stdout",
     "output_type": "stream",
     "text": [
      "請輸入學生人數:3\n",
      "1. 學號:001\n",
      "1. 姓名:judy\n",
      "2. 學號:002\n",
      "2. 姓名:johnny\n",
      "3. 學號:003\n",
      "3. 姓名:joe\n",
      "輸入完成\n"
     ]
    }
   ],
   "source": [
    "num = int(input(\"請輸入學生人數:\"))\n",
    "\n",
    "i = 1\n",
    "while i <= num:\n",
    "    stdID = input(str(i) +\". 學號:\")\n",
    "    name = input(str(i) +\". 姓名:\")\n",
    "    i += 1\n",
    "    \n",
    "print(\"輸入完成\")"
   ]
  },
  {
   "cell_type": "code",
   "execution_count": 11,
   "id": "14d9f5b6",
   "metadata": {
    "scrolled": true
   },
   "outputs": [
    {
     "name": "stdout",
     "output_type": "stream",
     "text": [
      "請輸入學生人數:3\n",
      "1. 學號:001\n",
      "1. 姓名:judy\n",
      "2. 學號:002\n",
      "2. 姓名:johnny\n",
      "3. 學號:003\n",
      "3. 姓名:joe\n",
      "輸入完成\n"
     ]
    }
   ],
   "source": [
    "outfile = open(\"std.txt\",\"w\")\n",
    "\n",
    "n = int(input(\"請輸入學生人數:\"))\n",
    "\n",
    "i = 1\n",
    "while i <= n:\n",
    "    stdID = input(str(i) +\". 學號:\")\n",
    "    name = input(str(i) +\". 姓名:\")\n",
    "    outfile.write(stdID+\"\\n\")\n",
    "    outfile.write(name+\"\\n\")\n",
    "    i += 1\n",
    "    \n",
    "outfile.close()    \n",
    "print(\"輸入完成\")"
   ]
  },
  {
   "cell_type": "code",
   "execution_count": 26,
   "id": "889015a1",
   "metadata": {},
   "outputs": [
    {
     "name": "stdout",
     "output_type": "stream",
     "text": [
      "學號: 001\n",
      "姓名:judy\n",
      "學號: 002\n",
      "姓名:johnny\n",
      "學號: 003\n",
      "姓名:joe\n",
      "輸入完成\n"
     ]
    }
   ],
   "source": [
    "infile = open(\"std.txt\",\"r\")\n",
    "\n",
    "for stdID in infile:\n",
    "    print(\"學號: \"+ stdID.strip())\n",
    "    name = infile.readline()\n",
    "    print(\"姓名:\"+ name.strip())\n",
    "    \n",
    "infile.close()\n",
    "\n",
    "print(\"輸入完成\")"
   ]
  },
  {
   "cell_type": "code",
   "execution_count": 30,
   "id": "f5b9b528",
   "metadata": {},
   "outputs": [
    {
     "name": "stdout",
     "output_type": "stream",
     "text": [
      "學號:001\n",
      "姓名:judy\n",
      "學號:002\n",
      "姓名:johnny\n",
      "學號:003\n",
      "姓名:joe\n",
      "輸入完成\n"
     ]
    }
   ],
   "source": [
    "def readFile ():\n",
    "    infile = open(\"std.txt\",\"r\")\n",
    "    \n",
    "    stdID = infile.readline()\n",
    "    \n",
    "    while stdID != \"\":\n",
    "        name = infile.readline()\n",
    "        print(\"學號:\"+stdID.strip())\n",
    "        print(\"姓名:\"+name.strip())\n",
    "        \n",
    "        stdID = infile.readline()\n",
    "        \n",
    "    infile.close()\n",
    "    \n",
    "    print(\"輸入完成\")\n",
    "    \n",
    "def main():\n",
    "    readFile()\n",
    "    \n",
    "main()"
   ]
  },
  {
   "cell_type": "code",
   "execution_count": 34,
   "id": "06d5b18e",
   "metadata": {},
   "outputs": [
    {
     "name": "stdout",
     "output_type": "stream",
     "text": [
      "Enter file name:2023.txt\n",
      "2023.txt : 檔案補存在!\n"
     ]
    }
   ],
   "source": [
    "def boxOffice():\n",
    "    fname = input(\"Enter file name:\")\n",
    "    try:\n",
    "        iF = open(fname, \"r\")\n",
    "    except:\n",
    "        print(fname, \": 檔案補存在!\")\n",
    "    else:    \n",
    "        amount = 0\n",
    "        for line in iF:\n",
    "            amount += int(line)\n",
    "        \n",
    "        print(\"票房合計:\", amount)\n",
    "    \n",
    "        iF.close()\n",
    "    \n",
    "boxOffice()"
   ]
  },
  {
   "cell_type": "code",
   "execution_count": null,
   "id": "c74babaf",
   "metadata": {},
   "outputs": [],
   "source": []
  }
 ],
 "metadata": {
  "kernelspec": {
   "display_name": "Python 3 (ipykernel)",
   "language": "python",
   "name": "python3"
  },
  "language_info": {
   "codemirror_mode": {
    "name": "ipython",
    "version": 3
   },
   "file_extension": ".py",
   "mimetype": "text/x-python",
   "name": "python",
   "nbconvert_exporter": "python",
   "pygments_lexer": "ipython3",
   "version": "3.10.9"
  }
 },
 "nbformat": 4,
 "nbformat_minor": 5
}
